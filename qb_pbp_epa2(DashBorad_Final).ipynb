{
 "cells": [
  {
   "cell_type": "code",
   "execution_count": null,
   "id": "c3986438",
   "metadata": {},
   "outputs": [],
   "source": [
    "#install the dash library\n",
    "pip install dash dash-core-components dash-html-components plotly "
   ]
  },
  {
   "cell_type": "code",
   "execution_count": 3,
   "id": "962ca8b4",
   "metadata": {
    "scrolled": false
   },
   "outputs": [
    {
     "data": {
      "text/html": [
       "\n",
       "        <iframe\n",
       "            width=\"100%\"\n",
       "            height=\"650\"\n",
       "            src=\"http://127.0.0.1:8053/\"\n",
       "            frameborder=\"0\"\n",
       "            allowfullscreen\n",
       "            \n",
       "        ></iframe>\n",
       "        "
      ],
      "text/plain": [
       "<IPython.lib.display.IFrame at 0x133147f90>"
      ]
     },
     "metadata": {},
     "output_type": "display_data"
    }
   ],
   "source": [
    "# Dash is a Python framework for building interactive web applications.\n",
    "import dash \n",
    "# dcc (Dash Core Components) contains components like Graph, Dropdown, Slider, etc.\n",
    "from dash import dcc, html, Input, Output \n",
    "# Plotly Express is a plotting library that makes it easy to create plots from DataFrames.\n",
    "import plotly.express as px  \n",
    "# Pandas is a data manipulation library, used here for reading and handling the dataset.\n",
    "import pandas as pd\n",
    "\n",
    "# Load your dataset here\n",
    "df = pd.read_csv('qb_pbp_epa2.csv')\n",
    "\n",
    "# Initialize the Dash app\n",
    "app = dash.Dash(__name__)\n",
    "\n",
    "# Dropdown options for quarterbacks\n",
    "quarterbacks = df['passer'].unique()\n",
    "qb_options = [{'label': qb, 'value': qb} for qb in quarterbacks]\n",
    "\n",
    "# Slider options for seasons\n",
    "seasons = df['season'].unique()\n",
    "seasons.sort()\n",
    "\n",
    "# Define the app layout\n",
    "app.layout = html.Div([\n",
    "    html.H1(\"NFL Quarterback Interactive Dashboard\"),\n",
    "    \n",
    "    # Dropdown for quarterback selection\n",
    "    html.Label(\"Select a Quarterback:\"),\n",
    "    dcc.Dropdown(\n",
    "        id='qb-dropdown',\n",
    "        options=qb_options,\n",
    "        value=quarterbacks[0]  # Set default value\n",
    "    ),\n",
    "    \n",
    "    # Line Chart Placeholder for the selected quarterback\n",
    "    dcc.Graph(id='line-chart'),\n",
    "    \n",
    "    # Slider for season selection\n",
    "    html.Label(\"Select a Season:\"),\n",
    "    dcc.Slider(\n",
    "        id='season-slider',\n",
    "        min=seasons.min(),\n",
    "        max=seasons.max(),\n",
    "        value=seasons.max(),\n",
    "        marks={str(season): str(season) for season in seasons},\n",
    "        step=None\n",
    "    ),\n",
    "    \n",
    "    # Bar Chart and Scatter Plot Placeholder for the selected season\n",
    "    dcc.Graph(id='bar-chart'),\n",
    "    dcc.Graph(id='scatter-plot')\n",
    "])\n",
    "\n",
    "# Callback for updating the line chart based on selected quarterback\n",
    "@app.callback(\n",
    "    Output('line-chart', 'figure'),\n",
    "    [Input('qb-dropdown', 'value')]\n",
    ")\n",
    "def update_line_chart(selected_qb):\n",
    "    # Filter the dataframe for the selected quarterback\n",
    "    filtered_df = df[df['passer'] == selected_qb]\n",
    "     # Create and return the line chart figure\n",
    "    fig = px.line(filtered_df, x=\"season\", y=\"epa_mean\", title=f\"{selected_qb}'s Mean EPA Over Seasons\")\n",
    "    return fig\n",
    "\n",
    "# Callback for updating the bar chart and scatter plot based on selected season\n",
    "@app.callback(\n",
    "    [Output('bar-chart', 'figure'),\n",
    "     Output('scatter-plot', 'figure')],\n",
    "    [Input('season-slider', 'value')]\n",
    ")\n",
    "def update_charts(selected_season):\n",
    "    # Filter the dataframe for the selected season\n",
    "    filtered_df = df[df['season'] == selected_season]\n",
    "    # Create and return the bar chart figure\n",
    "    bar_fig = px.bar(filtered_df, x=\"passer\", y=\"epa_mean\", title=f\"Quarterbacks' Mean EPA in {selected_season}\")\n",
    "    # Create and return the scatter plot figure\n",
    "    scatter_fig = px.scatter(filtered_df, x=\"epa_mean\", y=\"pass_td_last\", color=\"passer\",\n",
    "                             title=f\"Relationship between Mean EPA and Touchdowns in {selected_season}\")\n",
    "    return bar_fig, scatter_fig\n",
    "\n",
    "# Run the app\n",
    "if __name__ == '__main__':\n",
    "    app.run_server(debug=True, port=8053)     # Start the server on port 8053\n"
   ]
  }
 ],
 "metadata": {
  "kernelspec": {
   "display_name": "Python 3 (ipykernel)",
   "language": "python",
   "name": "python3"
  },
  "language_info": {
   "codemirror_mode": {
    "name": "ipython",
    "version": 3
   },
   "file_extension": ".py",
   "mimetype": "text/x-python",
   "name": "python",
   "nbconvert_exporter": "python",
   "pygments_lexer": "ipython3",
   "version": "3.11.5"
  }
 },
 "nbformat": 4,
 "nbformat_minor": 5
}
